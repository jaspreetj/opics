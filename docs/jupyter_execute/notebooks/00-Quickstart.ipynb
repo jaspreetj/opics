{
 "cells": [
  {
   "cell_type": "markdown",
   "metadata": {},
   "source": [
    "# OPICS Quickstart\n",
    "\n",
    "## Installing from pypi\n",
    "\n",
    "The easiest way to install OPICS is using pip pypi:\n",
    "\n",
    "```console\n",
    "\n",
    "pip install opics\n",
    "\n",
    "```\n",
    "\n",
    "## Installing from source\n",
    "\n",
    "Download the OPICS source code.\n",
    "\n",
    "```console\n",
    "\n",
    "git clone https://github.com/jaspreetj/opics\n",
    "\n",
    "```\n",
    "\n",
    "Install the OPICS package using ``pip``.\n",
    "\n",
    "```console\n",
    "\n",
    "pip install -e ./opics\n",
    "\n",
    "```\n",
    "\n",
    "Once the package is installed, it can be imported using:"
   ]
  },
  {
   "cell_type": "code",
   "execution_count": 1,
   "metadata": {},
   "outputs": [
    {
     "name": "stdout",
     "output_type": "stream",
     "text": [
      "\n",
      "   ____  ____  _______________\n",
      "  / __ \\/ __ \\/  _/ ____/ ___/\n",
      " / / / / /_/ // // /    \\__ \\\n",
      "/ /_/ / ____// // /___ ___/ /\n",
      "\\____/_/   /___/\\____//____/\n",
      "\n",
      "OPICS version 0.2.1\n"
     ]
    }
   ],
   "source": [
    "import opics"
   ]
  },
  {
   "cell_type": "markdown",
   "metadata": {},
   "source": [
    "## OPICS Libraries\n",
    "\n",
    "### Listing available libraries\n",
    "The package does not come with any component libraries pre-installed. You can select and download available libraries from the library catalogue."
   ]
  },
  {
   "cell_type": "code",
   "execution_count": 2,
   "metadata": {},
   "outputs": [
    {
     "name": "stdout",
     "output_type": "stream",
     "text": [
      "Available Libraries: ['ebeam'] \n"
     ]
    }
   ],
   "source": [
    "library_catalogue = opics.libraries.library_catalogue\n",
    "\n",
    "print(f\"Available Libraries: {[_ for _ in library_catalogue.keys()]} \")"
   ]
  },
  {
   "cell_type": "markdown",
   "metadata": {},
   "source": [
    "### Downloading libraries\n",
    "\n",
    "The OPICS libraries are downloaded by passing in `library_name`, `library_url`, and `library_path` to the `libraries.download_library` module. The module returns `True` if the library is downloaded successfully."
   ]
  },
  {
   "cell_type": "code",
   "execution_count": 3,
   "metadata": {},
   "outputs": [
    {
     "name": "stdout",
     "output_type": "stream",
     "text": [
      "Download start\n"
     ]
    },
    {
     "name": "stdout",
     "output_type": "stream",
     "text": [
      "Download finished.\n"
     ]
    },
    {
     "data": {
      "text/plain": [
       "<module 'opics.libraries' from 'c:\\\\users\\\\jeida\\\\documents\\\\github\\\\dev-jaspreetj\\\\opics\\\\opics\\\\libraries\\\\__init__.py'>"
      ]
     },
     "execution_count": 3,
     "metadata": {},
     "output_type": "execute_result"
    }
   ],
   "source": [
    "library = library_catalogue[\"ebeam\"]\n",
    "\n",
    "\n",
    "import os\n",
    "installation_path = os.path.join(os.path.join(os.environ['USERPROFILE']), 'Desktop\\\\delete') \n",
    "\n",
    "opics.libraries.download_library(\n",
    "    library_name=library[\"name\"],\n",
    "    library_url=library[\"dl_link\"],\n",
    "    library_path=installation_path,\n",
    ")\n",
    "\n",
    "# reload libraries\n",
    "import importlib\n",
    "importlib.reload(opics.libraries)"
   ]
  },
  {
   "cell_type": "markdown",
   "metadata": {},
   "source": [
    "### List installed libraries\n"
   ]
  },
  {
   "cell_type": "code",
   "execution_count": 4,
   "metadata": {},
   "outputs": [
    {
     "data": {
      "text/plain": [
       "['ebeam']"
      ]
     },
     "execution_count": 4,
     "metadata": {},
     "output_type": "execute_result"
    }
   ],
   "source": [
    "opics.libraries.installed_libraries"
   ]
  },
  {
   "cell_type": "markdown",
   "metadata": {},
   "source": [
    "### List library components"
   ]
  },
  {
   "cell_type": "code",
   "execution_count": 5,
   "metadata": {},
   "outputs": [
    {
     "data": {
      "text/plain": [
       "['BDC',\n",
       " 'DC_halfring',\n",
       " 'GC',\n",
       " 'Switch',\n",
       " 'TunableWG',\n",
       " 'Waveguide',\n",
       " 'Y',\n",
       " 'ebeam_y_1550',\n",
       " 'ebeam_gc_te1550',\n",
       " 'ebeam_wg_integral_1550']"
      ]
     },
     "execution_count": 5,
     "metadata": {},
     "output_type": "execute_result"
    }
   ],
   "source": [
    "opics.libraries.ebeam.components_list"
   ]
  },
  {
   "cell_type": "markdown",
   "metadata": {},
   "source": [
    "### Remove libraries\n",
    "\n",
    "Any of the installed libraries can be removed using the `libraries.remove_library` module."
   ]
  },
  {
   "cell_type": "code",
   "execution_count": 6,
   "metadata": {},
   "outputs": [
    {
     "name": "stdout",
     "output_type": "stream",
     "text": [
      "[]\n"
     ]
    }
   ],
   "source": [
    "opics.libraries.remove_library(\"ebeam\")\n",
    "\n",
    "importlib.reload(opics.libraries)\n",
    "\n",
    "print(opics.libraries.installed_libraries)"
   ]
  },
  {
   "cell_type": "code",
   "execution_count": 7,
   "metadata": {},
   "outputs": [
    {
     "name": "stdout",
     "output_type": "stream",
     "text": [
      "Download start\n"
     ]
    },
    {
     "name": "stdout",
     "output_type": "stream",
     "text": [
      "Download finished.\n",
      "['ebeam']\n"
     ]
    }
   ],
   "source": [
    "#reinstall ebeam library\n",
    "opics.libraries.download_library(\n",
    "    library_name=library[\"name\"],\n",
    "    library_url=library[\"dl_link\"],\n",
    "    library_path=installation_path,\n",
    ")\n",
    "\n",
    "importlib.reload(opics.libraries)\n",
    "\n",
    "print(opics.libraries.installed_libraries)"
   ]
  }
 ],
 "metadata": {
  "interpreter": {
   "hash": "b1807c3e8799192c8ef0a1976ee6a1ff9a5e2f25907ec9b4426f1eb7e23bfc59"
  },
  "kernelspec": {
   "display_name": "Python 3.8.8 ('base')",
   "language": "python",
   "name": "python3"
  },
  "language_info": {
   "codemirror_mode": {
    "name": "ipython",
    "version": 3
   },
   "file_extension": ".py",
   "mimetype": "text/x-python",
   "name": "python",
   "nbconvert_exporter": "python",
   "pygments_lexer": "ipython3",
   "version": "3.8.8"
  }
 },
 "nbformat": 4,
 "nbformat_minor": 2
}
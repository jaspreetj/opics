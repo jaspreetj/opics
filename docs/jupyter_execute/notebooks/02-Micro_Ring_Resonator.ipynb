{
 "cells": [
  {
   "cell_type": "markdown",
   "metadata": {},
   "source": [
    "# Micro Ring Resonator (MRR)\n",
    "\n",
    "**We use SiEPIC EBeam library in this tutorial.**\n",
    "\n",
    "   This notebook walks through the process of setting up and simulating a micro ring resonator device using the OPICS package. \n",
    "\n",
    "   A ring resonator consists of an optical waveguide which is looped back on itself, such that a resonance occurs when the optical path length of the resonator is exactly a whole number of wavelengths. In simple terms, an all pass ring resonator can be thought of consisting input/output components, evanescent coupling region like a directional coupler, and a waveguide (as shown below).\n",
    "<img style=\"width:70%;height:50%;\" src=\"../_static/mrr1.svg\">"
   ]
  },
  {
   "cell_type": "code",
   "execution_count": 1,
   "metadata": {},
   "outputs": [
    {
     "name": "stdout",
     "output_type": "stream",
     "text": [
      "\n",
      "   ____  ____  _______________\n",
      "  / __ \\/ __ \\/  _/ ____/ ___/\n",
      " / / / / /_/ // // /    \\__ \\\n",
      "/ /_/ / ____// // /___ ___/ /\n",
      "\\____/_/   /___/\\____//____/\n",
      "\n",
      "OPICS version 0.2.1\n"
     ]
    }
   ],
   "source": [
    "import time, warnings\n",
    "import numpy as np\n",
    "import matplotlib.pyplot as plt\n",
    "import opics"
   ]
  },
  {
   "cell_type": "markdown",
   "metadata": {},
   "source": [
    "### Import component library\n",
    "Import `ebeam` library from `libs` module."
   ]
  },
  {
   "cell_type": "code",
   "execution_count": 2,
   "metadata": {},
   "outputs": [],
   "source": [
    "ebeam = opics.libraries.ebeam"
   ]
  },
  {
   "cell_type": "markdown",
   "metadata": {},
   "source": [
    "### Define network \n",
    "Create an instance of `Network` class, which is used to add, connect, and simulate circuit components. "
   ]
  },
  {
   "cell_type": "code",
   "execution_count": 3,
   "metadata": {},
   "outputs": [],
   "source": [
    "circuit_name = \"mrr\"\n",
    "circuit = opics.Network(circuit_name)"
   ]
  },
  {
   "cell_type": "markdown",
   "metadata": {},
   "source": [
    "### Add circuit components\n",
    "Add grating couplers, evanescent coupler (e.g. directional coupler halfring), and a waveguide. You can define custom frequency data points for a component as well (see the example for output_GC)."
   ]
  },
  {
   "cell_type": "code",
   "execution_count": 4,
   "metadata": {},
   "outputs": [],
   "source": [
    "\n",
    "input_gc = circuit.add_component(ebeam.GC())\n",
    "output_gc = circuit.add_component(ebeam.GC())\n",
    "wg = circuit.add_component(ebeam.Waveguide(length=np.pi*5e-6))\n",
    "dc_halfring = circuit.add_component(ebeam.DC_halfring())\n"
   ]
  },
  {
   "cell_type": "markdown",
   "metadata": {},
   "source": [
    "### Define circuit connectivity\n",
    "\n",
    "In this section, we define the component connections. The connections are defined using `Network.connect`, e.g.`Network.connect(component1, component1_port, component2, component2_port)`"
   ]
  },
  {
   "cell_type": "code",
   "execution_count": 5,
   "metadata": {},
   "outputs": [],
   "source": [
    "#connect components\n",
    "circuit.connect(input_gc, 1, dc_halfring, 0)\n",
    "circuit.connect(dc_halfring, 1, wg, 0)\n",
    "circuit.connect(wg, 1, dc_halfring, 3)\n",
    "circuit.connect(dc_halfring,2, output_gc,1)"
   ]
  },
  {
   "cell_type": "markdown",
   "metadata": {},
   "source": [
    "### Simulate the circuit"
   ]
  },
  {
   "cell_type": "code",
   "execution_count": 6,
   "metadata": {},
   "outputs": [
    {
     "name": "stdout",
     "output_type": "stream",
     "text": [
      "simulation finished in 0.01s\n"
     ]
    }
   ],
   "source": [
    "warnings.filterwarnings('ignore') #ignore all/complex number warnings from numpy or scipy\n",
    "sim_start = time.time()\n",
    "\n",
    "#simulate network\n",
    "circuit.simulate_network()\n",
    "\n",
    "print(\"simulation finished in %ss\"%(str(round(time.time()-sim_start,2))))"
   ]
  },
  {
   "cell_type": "markdown",
   "metadata": {},
   "source": [
    "### Visualize the simulation result"
   ]
  },
  {
   "cell_type": "code",
   "execution_count": 7,
   "metadata": {},
   "outputs": [
    {
     "data": {
      "image/png": "[encoded data removed]",
      "text/plain": [
       "<Figure size 432x288 with 1 Axes>"
      ]
     },
     "metadata": {
      "filenames": {
       "image/png": "C:\\Users\\jeida\\Documents\\GitHub\\dev-jaspreetj\\opics\\docs\\build\\jupyter_execute\\notebooks\\02-Micro_Ring_Resonator_13_0.png"
      },
      "needs_background": "light"
     },
     "output_type": "display_data"
    }
   ],
   "source": [
    "circuit.sim_result.plot_sparameters(show_freq = False, scale=\"abs_sq\", ports = [[1,0], [0,0]])"
   ]
  }
 ],
 "metadata": {
  "kernelspec": {
   "display_name": "Python 3",
   "language": "python",
   "name": "python3"
  },
  "language_info": {
   "codemirror_mode": {
    "name": "ipython",
    "version": 3
   },
   "file_extension": ".py",
   "mimetype": "text/x-python",
   "name": "python",
   "nbconvert_exporter": "python",
   "pygments_lexer": "ipython3",
   "version": "3.8.8"
  }
 },
 "nbformat": 4,
 "nbformat_minor": 4
}

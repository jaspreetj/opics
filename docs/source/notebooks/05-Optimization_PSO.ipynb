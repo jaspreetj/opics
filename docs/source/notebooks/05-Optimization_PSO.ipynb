{
 "cells": [
  {
   "cell_type": "markdown",
   "metadata": {},
   "source": [
    "# Circuit Optimization"
   ]
  },
  {
   "cell_type": "markdown",
   "metadata": {},
   "source": []
  },
  {
   "cell_type": "code",
   "execution_count": null,
   "metadata": {},
   "outputs": [],
   "source": [
    "import numpy as np\n",
    "import matplotlib.pyplot as plt\n",
    "import opics\n",
    "from scipy import optimize\n",
    "import scipy.signal as signal\n",
    "from scipy import optimize"
   ]
  },
  {
   "cell_type": "markdown",
   "metadata": {},
   "source": [
    "Import an OPICS component library"
   ]
  },
  {
   "cell_type": "code",
   "execution_count": null,
   "metadata": {},
   "outputs": [],
   "source": [
    "ebeam = opics.libraries.ebeam"
   ]
  },
  {
   "cell_type": "markdown",
   "metadata": {},
   "source": [
    "Define custom frequency data points for a component"
   ]
  },
  {
   "cell_type": "code",
   "execution_count": null,
   "metadata": {},
   "outputs": [],
   "source": [
    "f = np.linspace(opics.C * 1e6 / 1.5, opics.C * 1e6 / 1.6, 1000)\n",
    "lam = opics.C / f"
   ]
  },
  {
   "cell_type": "markdown",
   "metadata": {},
   "source": [
    "Define a circuit to optimize"
   ]
  },
  {
   "cell_type": "code",
   "execution_count": null,
   "metadata": {},
   "outputs": [],
   "source": [
    "def solve_circuit(tunable_params=[50 * 1e-6, 150 * 1e-6]):\n",
    "    circuit_name = \"mzi\"\n",
    "    circuit = opics.Network(network_id=circuit_name, f=f)\n",
    "    # define component instances\n",
    "    input_gc = circuit.add_component(ebeam.GC)\n",
    "    y1 = circuit.add_component(ebeam.Y)\n",
    "    wg1 = circuit.add_component(\n",
    "        ebeam.Waveguide, params=dict(length=tunable_params[0] * 1e-6)\n",
    "    )\n",
    "    wg2 = circuit.add_component(\n",
    "        ebeam.Waveguide, params=dict(length=tunable_params[1] * 1e-6)\n",
    "    )\n",
    "    y2 = circuit.add_component(ebeam.Y)\n",
    "    output_gc = circuit.add_component(ebeam.GC)\n",
    "    # define circuit connectivity\n",
    "    circuit.connect(input_gc, 1, y1, 0)\n",
    "    circuit.connect(y1, 1, wg1, 0)\n",
    "    circuit.connect(y1, 2, wg2, 0)\n",
    "    circuit.connect(y2, 0, output_gc, 1)\n",
    "    circuit.connect(wg1, 1, y2, 1)\n",
    "    circuit.connect(wg2, 1, y2, 2)\n",
    "\n",
    "    return circuit.simulate_network().get_data(yscale=\"log\")[\"S_1_0\"]"
   ]
  },
  {
   "cell_type": "code",
   "execution_count": null,
   "metadata": {},
   "outputs": [],
   "source": [
    "target_response = solve_circuit(tunable_params=[50, 100])\n",
    "wg_lengths = [50, 150]\n",
    "curr_response = solve_circuit(wg_lengths)\n",
    "plt.plot(lam, target_response, \"b\")\n",
    "plt.plot(lam, curr_response, \"r\")"
   ]
  },
  {
   "cell_type": "markdown",
   "metadata": {},
   "source": [
    "Defined spectrum analyzing functions"
   ]
  },
  {
   "cell_type": "code",
   "execution_count": null,
   "metadata": {},
   "outputs": [],
   "source": [
    "def get_peaks(x, y, plot=False):\n",
    "    peaks, _ = signal.find_peaks(-y, prominence=1)\n",
    "    if plot:\n",
    "        plt.plot(x, y)\n",
    "        plt.plot(x[peaks], y[peaks], \"x\")\n",
    "        plt.show()\n",
    "\n",
    "    if len(peaks) == 0:\n",
    "        peaks = np.array([np.argmin(x), np.argmax(x)])\n",
    "    elif len(peaks) == 1:\n",
    "        peaks = np.repeat(peaks[0], 2)\n",
    "\n",
    "    return x[peaks]\n",
    "\n",
    "\n",
    "def get_closest_fsr_peaks(f, data, l0):\n",
    "    peaks = get_peaks(f, data)\n",
    "\n",
    "    fsr_pair = [(peaks[i - 1], peaks[i]) for i in range(1, len(peaks))]\n",
    "\n",
    "    distances = []\n",
    "    for each_fsr_pair in fsr_pair:\n",
    "        if l0 >= each_fsr_pair[0] and l0 <= each_fsr_pair[1]:\n",
    "            return np.array(each_fsr_pair)\n",
    "\n",
    "        temp_val = 0\n",
    "        temp_val += abs(each_fsr_pair[0] - l0)\n",
    "        temp_val += abs(each_fsr_pair[1] - l0)\n",
    "        distances.append(temp_val)\n",
    "    idx_min = np.argmin(distances)\n",
    "    return np.array(fsr_pair[idx_min])"
   ]
  },
  {
   "cell_type": "code",
   "execution_count": null,
   "metadata": {},
   "outputs": [],
   "source": [
    "target_response = solve_circuit(tunable_params=[50, 100])\n",
    "target_fsr_peaks = get_closest_fsr_peaks(lam * 1e9, target_response, 1550)\n",
    "print(target_fsr_peaks)"
   ]
  },
  {
   "cell_type": "markdown",
   "metadata": {},
   "source": [
    "Define a loss function, `loss`, and a forward-pass function, `fwd`, which outputs a scalar cost value to optimize."
   ]
  },
  {
   "cell_type": "code",
   "execution_count": null,
   "metadata": {},
   "outputs": [],
   "source": [
    "def loss(y_pred, y):\n",
    "    val = np.sum(abs(y_pred - y))\n",
    "    return val\n",
    "\n",
    "\n",
    "def fwd(trainable_params, static_params):\n",
    "    return loss(\n",
    "        get_closest_fsr_peaks(lam * 1e9, solve_circuit(trainable_params), 1550),\n",
    "        static_params,\n",
    "    )"
   ]
  },
  {
   "cell_type": "code",
   "execution_count": null,
   "metadata": {},
   "outputs": [],
   "source": [
    "wg_lengths = np.array([50, 150])\n",
    "fwd(wg_lengths, target_fsr_peaks), get_closest_fsr_peaks(\n",
    "    lam * 1e9, solve_circuit(wg_lengths), 1550\n",
    ")"
   ]
  },
  {
   "cell_type": "markdown",
   "metadata": {},
   "source": [
    "compute and plot the function in 3D"
   ]
  },
  {
   "cell_type": "code",
   "execution_count": null,
   "metadata": {},
   "outputs": [],
   "source": [
    "all_a = np.arange(10, 200, 5)\n",
    "all_b = np.arange(10, 200, 5)\n",
    "z = np.zeros((all_a.size, all_b.size))\n",
    "for ai in range(len(all_a)):\n",
    "    for bi in range(len(all_b)):\n",
    "        temp_grad = fwd([all_a[ai], all_b[bi]], target_fsr_peaks)\n",
    "        z[ai, bi] = temp_grad"
   ]
  },
  {
   "cell_type": "markdown",
   "metadata": {},
   "source": [
    "### Plot the objective function and the global minimum"
   ]
  },
  {
   "cell_type": "code",
   "execution_count": null,
   "metadata": {},
   "outputs": [],
   "source": [
    "idx_min = np.where(z == np.min(z))\n",
    "x_min = all_a[idx_min[0][0]]\n",
    "y_min = all_b[idx_min[1][0]]\n",
    "print(idx_min, x_min, y_min, np.amin(z))"
   ]
  },
  {
   "cell_type": "code",
   "execution_count": null,
   "metadata": {},
   "outputs": [],
   "source": [
    "# Set up base figure: The contour map\n",
    "from matplotlib import ticker\n",
    "\n",
    "fig, ax = plt.subplots(figsize=(8, 6))\n",
    "fig.set_tight_layout(True)\n",
    "[A, B] = np.meshgrid(all_a, all_b)\n",
    "img = ax.contourf(A, B, z.T, origin=\"lower\", cmap=\"magma\")\n",
    "fig.colorbar(img, ax=ax)\n",
    "ax.scatter(all_a[idx_min[0][:]], all_b[idx_min[1][:]], marker=\"x\", color=\"red\")"
   ]
  },
  {
   "cell_type": "markdown",
   "metadata": {},
   "source": [
    "### zooming in "
   ]
  },
  {
   "cell_type": "code",
   "execution_count": null,
   "metadata": {},
   "outputs": [],
   "source": [
    "# Set up base figure: The contour map\n",
    "fig, ax = plt.subplots(figsize=(8, 6))\n",
    "fig.set_tight_layout(True)\n",
    "slice = 30\n",
    "[A, B] = np.meshgrid(all_a[:slice], all_b[:slice])\n",
    "img = ax.contourf(A, B, z[:slice, :slice].T, origin=\"lower\", cmap=\"magma\")\n",
    "ax.scatter(all_a[idx_min[0][:]], all_b[idx_min[1][:]], marker=\"x\", color=\"red\")\n",
    "plt.xlim(10, 40)\n",
    "plt.ylim(50, 80)\n",
    "fig.colorbar(img, ax=ax)"
   ]
  },
  {
   "cell_type": "code",
   "execution_count": null,
   "metadata": {},
   "outputs": [],
   "source": [
    "all_a[:7], all_b[:7]"
   ]
  },
  {
   "cell_type": "markdown",
   "metadata": {},
   "source": [
    "### Hyper-parameters for the algorithm"
   ]
  },
  {
   "cell_type": "markdown",
   "metadata": {},
   "source": [
    "### Functions"
   ]
  },
  {
   "cell_type": "code",
   "execution_count": null,
   "metadata": {},
   "outputs": [],
   "source": [
    "import opics\n",
    "\n",
    "from opics.optimization import Swarm\n",
    "\n",
    "\n",
    "def fwd_vectorize(particle):\n",
    "    _sum = 0.0\n",
    "    _sum += fwd(particle.pos, target_fsr_peaks)\n",
    "    return _sum\n",
    "\n",
    "\n",
    "s = Swarm(20, 2, ((10.0, 200.0), (10.0, 200.0)), tolerance=-1)\n",
    "s.optimize(fwd_vectorize, 1, 200)"
   ]
  },
  {
   "cell_type": "code",
   "execution_count": null,
   "metadata": {},
   "outputs": [],
   "source": []
  },
  {
   "cell_type": "code",
   "execution_count": null,
   "metadata": {},
   "outputs": [],
   "source": [
    "xx = ((-10.0, -20.0), (100.0, 200.0))\n",
    "np.random.uniform(xx), np.array(\n",
    "    [np.random.uniform(_[0], _[1]) for _ in xx]\n",
    "), np.random.uniform(\n",
    "    100.0,\n",
    "    200.0,\n",
    "    [\n",
    "        2,\n",
    "    ],\n",
    ")"
   ]
  },
  {
   "cell_type": "code",
   "execution_count": null,
   "metadata": {},
   "outputs": [],
   "source": [
    "(10.0, 200.0), np.amax((10.0, 200.0))"
   ]
  },
  {
   "cell_type": "code",
   "execution_count": null,
   "metadata": {},
   "outputs": [],
   "source": [
    "np.random.uniform(0.39, 0.91, (2))"
   ]
  },
  {
   "cell_type": "code",
   "execution_count": null,
   "metadata": {},
   "outputs": [],
   "source": [
    "target_response = solve_circuit(tunable_params=[50, 100])\n",
    "wg_lengths = [50, 150]\n",
    "curr_response = solve_circuit(s.gbestpos)\n",
    "plt.plot(lam, target_response, \"b\")\n",
    "plt.plot(lam, curr_response, \"r\")\n",
    "plt.show()\n",
    "\n",
    "\n",
    "print(get_peaks(lam * 1e9, solve_circuit(s.gbestpos), 1550), target_fsr_peaks)\n",
    "print(\n",
    "    loss(\n",
    "        get_closest_fsr_peaks(lam * 1e9, solve_circuit(s.gbestpos), 1550),\n",
    "        target_fsr_peaks,\n",
    "    )\n",
    ")"
   ]
  },
  {
   "cell_type": "code",
   "execution_count": null,
   "metadata": {},
   "outputs": [],
   "source": [
    "s.log_best_particles[0][0]"
   ]
  },
  {
   "cell_type": "markdown",
   "metadata": {},
   "source": [
    "plot animation"
   ]
  },
  {
   "cell_type": "code",
   "execution_count": null,
   "metadata": {},
   "outputs": [],
   "source": [
    "fig, ax = plt.subplots(figsize=(8, 6))\n",
    "fig.set_tight_layout(True)\n",
    "[A, B] = np.meshgrid(all_a, all_b)\n",
    "img = ax.contourf(A, B, z.T, origin=\"lower\", cmap=\"magma\")\n",
    "fig.colorbar(img, ax=ax)\n",
    "ax.scatter(all_a[idx_min[0][:]], all_b[idx_min[1][:]], marker=\"x\", color=\"green\")\n",
    "global arrow_ref\n",
    "arrow_ref = []\n",
    "for each_particle in s.log_all_particles[0]:\n",
    "    p_arrow = ax.quiver(\n",
    "        each_particle[0][0],\n",
    "        each_particle[0][1],\n",
    "        each_particle[1][0],\n",
    "        each_particle[1][1],\n",
    "        color=\"blue\",\n",
    "        width=0.005,\n",
    "        angles=\"xy\",\n",
    "        scale_units=\"xy\",\n",
    "        scale=5,\n",
    "    )\n",
    "    arrow_ref.append(p_arrow)\n",
    "\n",
    "gbest_plot = plt.scatter(\n",
    "    s.log_best_particles[0][0],\n",
    "    s.log_best_particles[0][1],\n",
    "    marker=\"*\",\n",
    "    s=200,\n",
    "    color=\"white\",\n",
    "    alpha=0.4,\n",
    ")"
   ]
  },
  {
   "cell_type": "code",
   "execution_count": null,
   "metadata": {},
   "outputs": [],
   "source": [
    "from matplotlib.animation import FuncAnimation, PillowWriter\n",
    "\n",
    "\n",
    "def animate(i):\n",
    "    \"Steps of PSO: algorithm update and show in plot\"\n",
    "    title = \"Iteration {:02d}\".format(i)\n",
    "    ax.set_title(title)\n",
    "    # Update params\n",
    "    global arrow_ref\n",
    "    for idx_particle in range(len(s.log_all_particles[i])):\n",
    "        each_particle = s.log_all_particles[i][idx_particle]\n",
    "        arrow_ref[idx_particle].set_offsets((each_particle[0][0], each_particle[0][1]))\n",
    "        arrow_ref[idx_particle].set_UVC(each_particle[1][0], each_particle[1][1])\n",
    "    gbest_plot.set_offsets(s.log_best_particles[i])\n",
    "\n",
    "\n",
    "data_skip = 0\n",
    "\n",
    "\n",
    "def init_func():\n",
    "    ax.clear()\n",
    "\n",
    "\n",
    "anim = FuncAnimation(\n",
    "    fig,\n",
    "    animate,\n",
    "    frames=np.arange(0, len(s.log_all_particles) - 1, 1),\n",
    "    interval=500,\n",
    "    repeat=True,\n",
    ")"
   ]
  },
  {
   "cell_type": "markdown",
   "metadata": {},
   "source": []
  },
  {
   "cell_type": "code",
   "execution_count": null,
   "metadata": {},
   "outputs": [],
   "source": [
    "writergif = PillowWriter(fps=20)\n",
    "anim.save(\"PSO_locations.gif\", writer=writergif)"
   ]
  },
  {
   "cell_type": "code",
   "execution_count": null,
   "metadata": {},
   "outputs": [],
   "source": [
    "xdata = np.arange(0, len(s.log_all_particles))\n",
    "fig, ax = plt.subplots(figsize=(8, 6))\n",
    "fig.set_tight_layout(True)\n",
    "(lp,) = ax.plot(xdata, s.log_fitness)\n",
    "plt.ylabel(\"Cost\")\n",
    "plt.xlabel(\"Iteration\")"
   ]
  },
  {
   "cell_type": "code",
   "execution_count": null,
   "metadata": {},
   "outputs": [],
   "source": [
    "def animate(i):\n",
    "    \"Steps of PSO: algorithm update and show in plot\"\n",
    "    title = \"Iteration {:02d}\".format(i)\n",
    "    ax.set_title(title)\n",
    "    # Update params\n",
    "    lp.set_ydata(np.array(s.log_fitness)[:i])\n",
    "    lp.set_xdata(xdata[:i])\n",
    "    return (lp,)\n",
    "\n",
    "\n",
    "data_skip = 0\n",
    "\n",
    "\n",
    "def init_func():\n",
    "    ax.clear()\n",
    "\n",
    "\n",
    "anim = FuncAnimation(\n",
    "    fig,\n",
    "    animate,\n",
    "    frames=np.arange(1, len(s.log_all_particles), 1),\n",
    "    interval=500,\n",
    "    repeat=True,\n",
    ")"
   ]
  },
  {
   "cell_type": "code",
   "execution_count": null,
   "metadata": {},
   "outputs": [],
   "source": [
    "writergif = PillowWriter(fps=20)\n",
    "anim.save(\"PSO_cost.gif\", writer=writergif)"
   ]
  }
 ],
 "metadata": {
  "interpreter": {
   "hash": "2e6a5eb943d36d17f9ae40f4b5373ee72f53585428a25ce0db12ffa65a25d87f"
  },
  "kernelspec": {
   "display_name": "Python 3.8.8 ('base')",
   "language": "python",
   "name": "python3"
  },
  "language_info": {
   "codemirror_mode": {
    "name": "ipython",
    "version": 3
   },
   "file_extension": ".py",
   "mimetype": "text/x-python",
   "name": "python",
   "nbconvert_exporter": "python",
   "pygments_lexer": "ipython3",
   "version": "3.8.8"
  }
 },
 "nbformat": 4,
 "nbformat_minor": 2
}
